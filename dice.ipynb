{
 "cells": [
  {
   "cell_type": "markdown",
   "metadata": {},
   "source": [
    "Below is a classical interview question from investment banks. Only a few people have got it completely correct. Now that you have learnt enough to work it out, think it through and... enjoy!"
   ]
  },
  {
   "cell_type": "markdown",
   "metadata": {},
   "source": [
    "I will roll a single die * no more than three times * . You can stop me immediately after the first roll, or immediately after the second, or you can wait for the third. I will pay you the same amount of dollars as the number turned up on my last roll (roll number three unless you stop me sooner)."
   ]
  },
  {
   "cell_type": "markdown",
   "metadata": {},
   "source": [
    "i. What is your playing strategy?"
   ]
  },
  {
   "cell_type": "code",
   "execution_count": null,
   "metadata": {},
   "outputs": [],
   "source": [
    "def play_dice_game():\n",
    "    score = 0\n",
    "\n",
    "    # First round\n",
    "    roll1 = roll_die()\n",
    "    if roll1 in [4, 5, 6]:\n",
    "        score = roll1\n",
    "        return score  # Stop if you get 4, 5, or 6\n",
    "\n",
    "    # Second round\n",
    "    roll2 = roll_die()\n",
    "    if roll2 in [5, 6]:\n",
    "        score = roll2\n",
    "        return score  # Stop if you get 5 or 6\n",
    "\n",
    "    # Third round\n",
    "    roll3 = roll_die()\n",
    "    score = roll3  # Take whatever the roll is in the third round\n",
    "\n",
    "    return score\n",
    "\n",
    "def roll_die():\n",
    "    import random\n",
    "    return random.randint(1, 6)\n",
    "\n",
    "# Example of playing the game\n",
    "final_score = play_dice_game()\n",
    "print(f\"Final Score: {final_score}\")"
   ]
  },
  {
   "cell_type": "markdown",
   "metadata": {},
   "source": []
  }
 ],
 "metadata": {
  "kernelspec": {
   "display_name": "Julia 1.10.4",
   "language": "julia",
   "name": "julia-1.10"
  },
  "language_info": {
   "file_extension": ".jl",
   "mimetype": "application/julia",
   "name": "julia",
   "version": "1.10.4"
  }
 },
 "nbformat": 4,
 "nbformat_minor": 2
}
